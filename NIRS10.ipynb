{
 "cells": [
  {
   "cell_type": "markdown",
   "id": "7d169d2a",
   "metadata": {},
   "source": [
    "# Рекомендация тарифов"
   ]
  },
  {
   "cell_type": "markdown",
   "id": "eaa7e578",
   "metadata": {},
   "source": [
    "## Откроем и изучим файл"
   ]
  },
  {
   "cell_type": "markdown",
   "id": "ce8f33d2",
   "metadata": {},
   "source": [
    "**1. Загрузим данные из файла в датафрейм**"
   ]
  },
  {
   "cell_type": "code",
   "execution_count": 1,
   "id": "fab9680d",
   "metadata": {},
   "outputs": [],
   "source": [
    "import pandas as pd\n",
    "import matplotlib.pyplot as plt\n",
    "import numpy as np\n",
    "import seaborn as sb\n",
    "from matplotlib.ticker import AutoMinorLocator, FormatStrFormatter\n",
    "from matplotlib.ticker import (MultipleLocator, AutoMinorLocator)\n",
    "from scipy import stats as st\n",
    "import warnings\n",
    "from sklearn.tree import DecisionTreeClassifier\n",
    "from sklearn.ensemble import RandomForestClassifier\n",
    "from sklearn.linear_model import LogisticRegression\n",
    "from sklearn.metrics import accuracy_score\n",
    "from sklearn.model_selection import train_test_split\n",
    "\n",
    "warnings.filterwarnings(\"ignore\")"
   ]
  },
  {
   "cell_type": "code",
   "execution_count": 2,
   "id": "fcaf25cd",
   "metadata": {},
   "outputs": [],
   "source": [
    "try:\n",
    "    data = pd.read_csv('/datasets/users_behavior.csv', sep=',')\n",
    "except:\n",
    "    data = pd.read_csv('https://code.s3.yandex.net/datasets/users_behavior.csv', sep=',')"
   ]
  },
  {
   "cell_type": "markdown",
   "id": "8d985e17",
   "metadata": {},
   "source": [
    "**2. Изучим общую информацию о полученном датафрейме**"
   ]
  },
  {
   "cell_type": "code",
   "execution_count": 3,
   "id": "8f23b2c2",
   "metadata": {},
   "outputs": [
    {
     "name": "stdout",
     "output_type": "stream",
     "text": [
      "<class 'pandas.core.frame.DataFrame'>\n",
      "RangeIndex: 3214 entries, 0 to 3213\n",
      "Data columns (total 5 columns):\n",
      " #   Column    Non-Null Count  Dtype  \n",
      "---  ------    --------------  -----  \n",
      " 0   calls     3214 non-null   float64\n",
      " 1   minutes   3214 non-null   float64\n",
      " 2   messages  3214 non-null   float64\n",
      " 3   mb_used   3214 non-null   float64\n",
      " 4   is_ultra  3214 non-null   int64  \n",
      "dtypes: float64(4), int64(1)\n",
      "memory usage: 125.7 KB\n"
     ]
    },
    {
     "data": {
      "text/html": [
       "<div>\n",
       "<style scoped>\n",
       "    .dataframe tbody tr th:only-of-type {\n",
       "        vertical-align: middle;\n",
       "    }\n",
       "\n",
       "    .dataframe tbody tr th {\n",
       "        vertical-align: top;\n",
       "    }\n",
       "\n",
       "    .dataframe thead th {\n",
       "        text-align: right;\n",
       "    }\n",
       "</style>\n",
       "<table border=\"1\" class=\"dataframe\">\n",
       "  <thead>\n",
       "    <tr style=\"text-align: right;\">\n",
       "      <th></th>\n",
       "      <th>calls</th>\n",
       "      <th>minutes</th>\n",
       "      <th>messages</th>\n",
       "      <th>mb_used</th>\n",
       "      <th>is_ultra</th>\n",
       "    </tr>\n",
       "  </thead>\n",
       "  <tbody>\n",
       "    <tr>\n",
       "      <th>0</th>\n",
       "      <td>40.0</td>\n",
       "      <td>311.90</td>\n",
       "      <td>83.0</td>\n",
       "      <td>19915.42</td>\n",
       "      <td>0</td>\n",
       "    </tr>\n",
       "    <tr>\n",
       "      <th>1</th>\n",
       "      <td>85.0</td>\n",
       "      <td>516.75</td>\n",
       "      <td>56.0</td>\n",
       "      <td>22696.96</td>\n",
       "      <td>0</td>\n",
       "    </tr>\n",
       "    <tr>\n",
       "      <th>2</th>\n",
       "      <td>77.0</td>\n",
       "      <td>467.66</td>\n",
       "      <td>86.0</td>\n",
       "      <td>21060.45</td>\n",
       "      <td>0</td>\n",
       "    </tr>\n",
       "    <tr>\n",
       "      <th>3</th>\n",
       "      <td>106.0</td>\n",
       "      <td>745.53</td>\n",
       "      <td>81.0</td>\n",
       "      <td>8437.39</td>\n",
       "      <td>1</td>\n",
       "    </tr>\n",
       "    <tr>\n",
       "      <th>4</th>\n",
       "      <td>66.0</td>\n",
       "      <td>418.74</td>\n",
       "      <td>1.0</td>\n",
       "      <td>14502.75</td>\n",
       "      <td>0</td>\n",
       "    </tr>\n",
       "    <tr>\n",
       "      <th>5</th>\n",
       "      <td>58.0</td>\n",
       "      <td>344.56</td>\n",
       "      <td>21.0</td>\n",
       "      <td>15823.37</td>\n",
       "      <td>0</td>\n",
       "    </tr>\n",
       "    <tr>\n",
       "      <th>6</th>\n",
       "      <td>57.0</td>\n",
       "      <td>431.64</td>\n",
       "      <td>20.0</td>\n",
       "      <td>3738.90</td>\n",
       "      <td>1</td>\n",
       "    </tr>\n",
       "    <tr>\n",
       "      <th>7</th>\n",
       "      <td>15.0</td>\n",
       "      <td>132.40</td>\n",
       "      <td>6.0</td>\n",
       "      <td>21911.60</td>\n",
       "      <td>0</td>\n",
       "    </tr>\n",
       "    <tr>\n",
       "      <th>8</th>\n",
       "      <td>7.0</td>\n",
       "      <td>43.39</td>\n",
       "      <td>3.0</td>\n",
       "      <td>2538.67</td>\n",
       "      <td>1</td>\n",
       "    </tr>\n",
       "    <tr>\n",
       "      <th>9</th>\n",
       "      <td>90.0</td>\n",
       "      <td>665.41</td>\n",
       "      <td>38.0</td>\n",
       "      <td>17358.61</td>\n",
       "      <td>0</td>\n",
       "    </tr>\n",
       "  </tbody>\n",
       "</table>\n",
       "</div>"
      ],
      "text/plain": [
       "   calls  minutes  messages   mb_used  is_ultra\n",
       "0   40.0   311.90      83.0  19915.42         0\n",
       "1   85.0   516.75      56.0  22696.96         0\n",
       "2   77.0   467.66      86.0  21060.45         0\n",
       "3  106.0   745.53      81.0   8437.39         1\n",
       "4   66.0   418.74       1.0  14502.75         0\n",
       "5   58.0   344.56      21.0  15823.37         0\n",
       "6   57.0   431.64      20.0   3738.90         1\n",
       "7   15.0   132.40       6.0  21911.60         0\n",
       "8    7.0    43.39       3.0   2538.67         1\n",
       "9   90.0   665.41      38.0  17358.61         0"
      ]
     },
     "execution_count": 3,
     "metadata": {},
     "output_type": "execute_result"
    }
   ],
   "source": [
    "data.info()\n",
    "data.head(10)"
   ]
  },
  {
   "cell_type": "markdown",
   "id": "3ae6f837",
   "metadata": {},
   "source": [
    "**3. Построим общую гистограмму для всех числовых столбцов таблицы**"
   ]
  },
  {
   "cell_type": "code",
   "execution_count": 30,
   "id": "b0ff1c8a",
   "metadata": {},
   "outputs": [
    {
     "data": {
      "text/plain": [
       "array([[<Axes: title={'center': 'calls'}>,\n",
       "        <Axes: title={'center': 'minutes'}>],\n",
       "       [<Axes: title={'center': 'messages'}>,\n",
       "        <Axes: title={'center': 'mb_used'}>],\n",
       "       [<Axes: title={'center': 'is_ultra'}>, <Axes: >]], dtype=object)"
      ]
     },
     "execution_count": 30,
     "metadata": {},
     "output_type": "execute_result"
    },
    {
     "data": {
      "image/png": "[encoded data removed]",
      "text/plain": [
       "<Figure size 700x500 with 6 Axes>"
      ]
     },
     "metadata": {},
     "output_type": "display_data"
    }
   ],
   "source": [
    "data.hist(figsize=(7,5))"
   ]
  },
  {
   "cell_type": "markdown",
   "id": "31567c20",
   "metadata": {},
   "source": [
    "**4. Посмотрим, есть ли в датасете дубликаты, и избавимся от них при их наличии**"
   ]
  },
  {
   "cell_type": "code",
   "execution_count": 5,
   "id": "3407b4b6",
   "metadata": {},
   "outputs": [
    {
     "data": {
      "text/plain": [
       "0"
      ]
     },
     "execution_count": 5,
     "metadata": {},
     "output_type": "execute_result"
    }
   ],
   "source": [
    "data.duplicated().sum()"
   ]
  },
  {
   "cell_type": "markdown",
   "id": "3a051727",
   "metadata": {},
   "source": [
    "Дубликатов нет, ура!"
   ]
  },
  {
   "cell_type": "markdown",
   "id": "96a65754",
   "metadata": {},
   "source": [
    "**5. Проверим, есть ли в датасете пропуски, и избавимся от них при их наличии**"
   ]
  },
  {
   "cell_type": "code",
   "execution_count": 6,
   "id": "6532d726",
   "metadata": {},
   "outputs": [
    {
     "data": {
      "text/plain": [
       "calls       0\n",
       "minutes     0\n",
       "messages    0\n",
       "mb_used     0\n",
       "is_ultra    0\n",
       "dtype: int64"
      ]
     },
     "execution_count": 6,
     "metadata": {},
     "output_type": "execute_result"
    }
   ],
   "source": [
    "data.isna().sum()"
   ]
  },
  {
   "cell_type": "markdown",
   "id": "eef74890",
   "metadata": {},
   "source": [
    "Все значения заполнены"
   ]
  },
  {
   "cell_type": "markdown",
   "id": "470208c5",
   "metadata": {},
   "source": [
    "**6. Изменим тип значений столбца `messages` с float на int**"
   ]
  },
  {
   "cell_type": "code",
   "execution_count": 7,
   "id": "98a7f6ef",
   "metadata": {},
   "outputs": [
    {
     "data": {
      "text/plain": [
       "0       83.0\n",
       "1       56.0\n",
       "2       86.0\n",
       "3       81.0\n",
       "4        1.0\n",
       "        ... \n",
       "3209    20.0\n",
       "3210     0.0\n",
       "3211    70.0\n",
       "3212    90.0\n",
       "3213     6.0\n",
       "Name: messages, Length: 3214, dtype: float64"
      ]
     },
     "execution_count": 7,
     "metadata": {},
     "output_type": "execute_result"
    }
   ],
   "source": [
    "data['messages']"
   ]
  },
  {
   "cell_type": "markdown",
   "id": "1bb63987",
   "metadata": {},
   "source": [
    "**Вывод: мы убедились, что в датафрейме нет пропущенных значений и дубликатов. Интересное наблюдение - пользователей тарифа ultra в 2 раза с лишним раза меньше, чем пользователей с другими тарифами. Пожалуй, перед нами стоит задача классификации. За целевой признак берем столбец is_ultra.**"
   ]
  },
  {
   "cell_type": "markdown",
   "id": "f33e7bc8",
   "metadata": {},
   "source": [
    "## Разбейте данные на выборки"
   ]
  },
  {
   "cell_type": "markdown",
   "id": "46a161e4",
   "metadata": {},
   "source": [
    "Спрятанной тестовой выборки нет. Значит, данные нужно разбить на три части: обучающую, валидационную и тестовую. Размеры тестового и валидационного наборов возьмем равными. То есть исходные данные разобьем в соотношении 3:1:1. 60% - обучающая выборка, 20% - валидационная выборка, 20% - тестовая выборка."
   ]
  },
  {
   "cell_type": "code",
   "execution_count": 8,
   "id": "2bbcc49a",
   "metadata": {},
   "outputs": [],
   "source": [
    "#отсеем обучающую выборку и временную тестовую выборку(40% от выборки)\n",
    "data_train, data_test_temporary = train_test_split(data, test_size=0.4, random_state=12345)\n",
    "#поделим временную тестовую выборку(40% от выборки) на тестовую и валидационную\n",
    "data_test, data_valid = train_test_split(data_test_temporary, test_size=0.5, random_state=12345)"
   ]
  },
  {
   "cell_type": "markdown",
   "id": "0f67d9e7",
   "metadata": {},
   "source": [
    "Проверим, какие получились выборки по размеру"
   ]
  },
  {
   "cell_type": "code",
   "execution_count": 9,
   "id": "d9dfd373",
   "metadata": {},
   "outputs": [
    {
     "name": "stdout",
     "output_type": "stream",
     "text": [
      "Размер всей выборки: 3214\n",
      "Размер обучающей выборки: 1928\n",
      "Размер тестовой выборки: 643\n",
      "Размер валидационной выборки: 643\n"
     ]
    }
   ],
   "source": [
    "print('Размер всей выборки:', len(data))\n",
    "print('Размер обучающей выборки:', len(data_train))\n",
    "print('Размер тестовой выборки:', len(data_test))\n",
    "print('Размер валидационной выборки:', len(data_valid))"
   ]
  },
  {
   "cell_type": "markdown",
   "id": "861cdc20",
   "metadata": {},
   "source": [
    "Все верно! С этими выборками можно работать)"
   ]
  },
  {
   "cell_type": "markdown",
   "id": "2ebfc6ad",
   "metadata": {},
   "source": [
    "Обучающий набор данных сохраним в переменные data_features_train и data_target_train, валидационный набор данных - в data_features_valid и data_target_valid, а тестовый набор данных - в data_features_test и data_target_test."
   ]
  },
  {
   "cell_type": "code",
   "execution_count": 10,
   "id": "c1713d87",
   "metadata": {},
   "outputs": [],
   "source": [
    "data_features_train = data_train.drop(['is_ultra'], axis=1)\n",
    "data_target_train = data_train['is_ultra']\n",
    "data_features_valid = data_valid.drop(['is_ultra'], axis=1)\n",
    "data_target_valid = data_valid['is_ultra']\n",
    "data_features_test = data_test.drop(['is_ultra'], axis=1)\n",
    "data_target_test = data_test['is_ultra']"
   ]
  },
  {
   "cell_type": "markdown",
   "id": "1101d361",
   "metadata": {},
   "source": [
    "**Вывод: мы получили обучающую выборку размером 1928 элементов, тестовую выборку размером 643 элемента и валидационную выборку размером 643 элемента, с которыми будем работать. Также выделили обучающий набор данных, валидационный набор данных и тестовый набор данных**"
   ]
  },
  {
   "cell_type": "markdown",
   "id": "fb01f6bb",
   "metadata": {},
   "source": [
    "## Исследуйте модели"
   ]
  },
  {
   "cell_type": "markdown",
   "id": "a50c83c3",
   "metadata": {},
   "source": [
    "Исследуем модели дерево решений, случайный лес и логистическая регрессия. Сохраним лучшие модели. Начнем с модели **дерево решений**"
   ]
  },
  {
   "cell_type": "markdown",
   "id": "2eedb1b6",
   "metadata": {},
   "source": [
    "### Модель дерево решений"
   ]
  },
  {
   "cell_type": "code",
   "execution_count": 11,
   "id": "288636b7",
   "metadata": {},
   "outputs": [
    {
     "name": "stdout",
     "output_type": "stream",
     "text": [
      "Лучшая глубина дерева: 7\n",
      "Accuracy наилучшей модели на валидационной выборке: 0.7993779160186625\n"
     ]
    }
   ],
   "source": [
    "best_model = 0\n",
    "best_result = 0\n",
    "\n",
    "for depth in range(1,51):\n",
    "    model = DecisionTreeClassifier(random_state=12345, max_depth=depth)\n",
    "    model.fit(data_features_train, data_target_train)\n",
    "    valid_predictions = model.predict(data_features_valid)\n",
    "    accuracy = accuracy_score(data_target_valid, valid_predictions)\n",
    "    if accuracy > best_result:\n",
    "        best_model = depth\n",
    "        best_result = accuracy\n",
    "\n",
    "print('Лучшая глубина дерева:', best_model)\n",
    "print('Accuracy наилучшей модели на валидационной выборке:', best_result) "
   ]
  },
  {
   "cell_type": "markdown",
   "id": "6e4a63ab",
   "metadata": {},
   "source": [
    "Сохраним лучшую модель дерева решений"
   ]
  },
  {
   "cell_type": "code",
   "execution_count": 12,
   "id": "69343b25",
   "metadata": {},
   "outputs": [
    {
     "name": "stdout",
     "output_type": "stream",
     "text": [
      "Глубина дерева: 7\n",
      "Accuracy наилучшей модели на валидационной выборке: 0.7993779160186625\n"
     ]
    }
   ],
   "source": [
    "best_tree_model = DecisionTreeClassifier(random_state=12345, max_depth=7)\n",
    "best_tree_model.fit(data_features_train, data_target_train)\n",
    "valid_predictions = best_tree_model.predict(data_features_valid)\n",
    "accuracy = accuracy_score(data_target_valid, valid_predictions)\n",
    "print('Глубина дерева:', 7)\n",
    "print('Accuracy наилучшей модели на валидационной выборке:', accuracy)"
   ]
  },
  {
   "cell_type": "code",
   "execution_count": 13,
   "id": "cf0839c7",
   "metadata": {},
   "outputs": [
    {
     "name": "stdout",
     "output_type": "stream",
     "text": [
      "Лучшая глубина дерева: 7\n",
      "Accuracy наилучшей модели на валидационной выборке: 0.7993779160186625\n"
     ]
    }
   ],
   "source": [
    "best_model = 0\n",
    "best_result = 0\n",
    "\n",
    "for depth in range(1,20):\n",
    "    model = DecisionTreeClassifier(random_state=12345, max_depth=depth)\n",
    "    model.fit(data_features_train, data_target_train)\n",
    "    valid_predictions = model.predict(data_features_valid)\n",
    "    accuracy = accuracy_score(data_target_valid, valid_predictions)\n",
    "    if accuracy > best_result:\n",
    "        best_model = depth\n",
    "        best_result = accuracy\n",
    "\n",
    "print('Лучшая глубина дерева:', best_model)\n",
    "print('Accuracy наилучшей модели на валидационной выборке:', best_result) "
   ]
  },
  {
   "cell_type": "markdown",
   "id": "da63a4fa",
   "metadata": {},
   "source": [
    "Далее исследуем модель **случайный лес**"
   ]
  },
  {
   "cell_type": "markdown",
   "id": "f15fb582",
   "metadata": {},
   "source": [
    "### Модель случайный лес"
   ]
  },
  {
   "cell_type": "markdown",
   "id": "2ca45bc6",
   "metadata": {},
   "source": [
    "Для этой модели будем менять гиперпарметры и исследуем результат. Изначально будем менять гиперпараметр n_estimators, но не будем его брать в особый расчет для решения задачи \"влияние гиперпараметров на результат\""
   ]
  },
  {
   "cell_type": "code",
   "execution_count": 14,
   "id": "23ce8110",
   "metadata": {},
   "outputs": [
    {
     "name": "stdout",
     "output_type": "stream",
     "text": [
      "Количество деревьев: 48\n",
      "Accuracy наилучшей модели на валидационной выборке: 0.7962674961119751\n"
     ]
    }
   ],
   "source": [
    "best_model = None\n",
    "best_result = 0\n",
    "for est in range(1, 51):\n",
    "    model = RandomForestClassifier(random_state=12345, n_estimators=est) \n",
    "    model.fit(data_features_train, data_target_train) \n",
    "    result = model.score(data_features_valid, data_target_valid) \n",
    "    if result > best_result:\n",
    "        best_model =  est\n",
    "        best_result = result\n",
    "        \n",
    "print('Количество деревьев:', best_model)\n",
    "print(\"Accuracy наилучшей модели на валидационной выборке:\", best_result)"
   ]
  },
  {
   "cell_type": "markdown",
   "id": "ffa082bb",
   "metadata": {},
   "source": [
    "Изменим параметр max_features. По умолчанию он max_features=n_features, считается, что для задачи классификации лучше всего подходит значение sqrt. Однако проверим еще и значение 1.  "
   ]
  },
  {
   "cell_type": "code",
   "execution_count": 15,
   "id": "7f5451f0",
   "metadata": {},
   "outputs": [
    {
     "name": "stdout",
     "output_type": "stream",
     "text": [
      "Количество деревьев: 48\n",
      "Accuracy наилучшей модели на валидационной выборке при max_features='sqrt': 0.7962674961119751\n"
     ]
    }
   ],
   "source": [
    "best_model = None\n",
    "best_result = 0\n",
    "for est in range(1, 51):\n",
    "    model = RandomForestClassifier(random_state=12345, n_estimators=est, max_features='sqrt') \n",
    "    model.fit(data_features_train, data_target_train) \n",
    "    result = model.score(data_features_valid, data_target_valid) \n",
    "    if result > best_result:\n",
    "        best_model =  est\n",
    "        best_result = result\n",
    "        \n",
    "print('Количество деревьев:', best_model)\n",
    "print(\"Accuracy наилучшей модели на валидационной выборке при max_features='sqrt':\", best_result)"
   ]
  },
  {
   "cell_type": "code",
   "execution_count": 16,
   "id": "d3cdd0c0",
   "metadata": {},
   "outputs": [
    {
     "name": "stdout",
     "output_type": "stream",
     "text": [
      "Количество деревьев: 18\n",
      "Accuracy наилучшей модели на валидационной выборке при max_features=1: 0.7916018662519441\n"
     ]
    }
   ],
   "source": [
    "best_model = None\n",
    "best_result = 0\n",
    "for est in range(1, 51):\n",
    "    model = RandomForestClassifier(random_state=12345, n_estimators=est, max_features=1) \n",
    "    model.fit(data_features_train, data_target_train) \n",
    "    result = model.score(data_features_valid, data_target_valid) \n",
    "    if result > best_result:\n",
    "        best_model =  est\n",
    "        best_result = result\n",
    "        \n",
    "print('Количество деревьев:', best_model)\n",
    "print(\"Accuracy наилучшей модели на валидационной выборке при max_features=1:\", best_result)"
   ]
  },
  {
   "cell_type": "markdown",
   "id": "218bd79b",
   "metadata": {},
   "source": [
    "Сохраним лучшую модель случайного леса. Это такая модель, что количество деревьев 24, а criterion='entropy'"
   ]
  },
  {
   "cell_type": "code",
   "execution_count": 19,
   "id": "92543c47",
   "metadata": {},
   "outputs": [
    {
     "name": "stdout",
     "output_type": "stream",
     "text": [
      "Количество деревьев: 24\n",
      "Accuracy наилучшей модели на валидационной выборке: 0.7978227060653188\n"
     ]
    }
   ],
   "source": [
    "best_forest_model = RandomForestClassifier(random_state=12345, n_estimators=24, criterion='entropy') \n",
    "best_forest_model.fit(data_features_train, data_target_train)\n",
    "valid_predictions = best_forest_model.predict(data_features_valid)\n",
    "accuracy = accuracy_score(data_target_valid, valid_predictions)\n",
    "print('Количество деревьев:', 24)\n",
    "print(\"Accuracy наилучшей модели на валидационной выборке:\", accuracy)"
   ]
  },
  {
   "cell_type": "markdown",
   "id": "5feb26e8",
   "metadata": {},
   "source": [
    "Далее исследуем модель **логистическая регрессия**"
   ]
  },
  {
   "cell_type": "markdown",
   "id": "0002184b",
   "metadata": {},
   "source": [
    "### Модель логистическая регрессия"
   ]
  },
  {
   "cell_type": "code",
   "execution_count": 20,
   "id": "584c151c",
   "metadata": {},
   "outputs": [
    {
     "name": "stdout",
     "output_type": "stream",
     "text": [
      "Accuracy наилучшей модели на валидационной выборке: 0.6842923794712286\n"
     ]
    }
   ],
   "source": [
    "model_logistic_regression = LogisticRegression(random_state=12345, solver='lbfgs', max_iter=1000)\n",
    "model_logistic_regression.fit(data_features_train, data_target_train)\n",
    "valid_predictions = model_logistic_regression.predict(data_features_valid)\n",
    "accuracy = accuracy_score(data_target_valid, valid_predictions)\n",
    "\n",
    "print(\"Accuracy наилучшей модели на валидационной выборке:\", accuracy)"
   ]
  },
  {
   "cell_type": "markdown",
   "id": "6eaaefe5",
   "metadata": {},
   "source": [
    "**Вывод: при исследовании моделей решающего дерева, случайного леса и логистичесакой регрессии было выявлено, что лучший результат по метрике Accuracy показывает модель решающего дерева. Немногим отстает и модель случайного леса. Хуже всего точность у логистической регрессии.**\n",
    "- Accuracy дерева решений = 0.7993779160186625 при глубине дерева 7.\n",
    "- Accuracy случайного леса = 0.7978227060653188 количестве деревьев 24 и гиперпараметре criterion='entropy'(гиперпараметры со значениями max_features=1 и bootstrap=False только ухудшают результат).\n",
    "- Accuracy логистической регрессии = 0.6889580093312597.\n",
    "\n",
    "**Однако стоит проверить результаты на тестовой выборке**"
   ]
  },
  {
   "cell_type": "markdown",
   "id": "8d85fc8c",
   "metadata": {},
   "source": [
    "## Проверим модели на тестовой выборке"
   ]
  },
  {
   "cell_type": "code",
   "execution_count": 21,
   "id": "9000ccb8",
   "metadata": {},
   "outputs": [
    {
     "name": "stdout",
     "output_type": "stream",
     "text": [
      "Точность модели дерева решений на тестовой выборке: 0.7822706065318819\n"
     ]
    }
   ],
   "source": [
    "test_predictions = best_tree_model.predict(data_features_test)\n",
    "accuracy = accuracy_score(data_target_test, test_predictions)\n",
    "print('Точность модели дерева решений на тестовой выборке:', accuracy)"
   ]
  },
  {
   "cell_type": "code",
   "execution_count": 22,
   "id": "6a8e6225",
   "metadata": {},
   "outputs": [
    {
     "name": "stdout",
     "output_type": "stream",
     "text": [
      "Точность модели случайного леса на тестовой выборке: 0.7853810264385692\n"
     ]
    }
   ],
   "source": [
    "test_predictions = best_forest_model.predict(data_features_test)\n",
    "accuracy = accuracy_score(data_target_test, test_predictions)\n",
    "print('Точность модели случайного леса на тестовой выборке:', accuracy)"
   ]
  },
  {
   "cell_type": "code",
   "execution_count": 23,
   "id": "f79f94fe",
   "metadata": {},
   "outputs": [
    {
     "name": "stdout",
     "output_type": "stream",
     "text": [
      "Точность модели логистической регрессии на тестовой выборке: 0.7107309486780715\n"
     ]
    }
   ],
   "source": [
    "test_predictions = model_logistic_regression.predict(data_features_test)\n",
    "accuracy = accuracy_score(data_target_test, test_predictions)\n",
    "print('Точность модели логистической регрессии на тестовой выборке:', accuracy)"
   ]
  },
  {
   "cell_type": "markdown",
   "id": "c449733b",
   "metadata": {},
   "source": [
    "**Вывод: при проверке моделей на тестовой выборке было выяснено, что точность модели дерева решений на тестовой выборке: 0.7822706065318819, точность модели случайного леса на тестовой выборке: 0.7853810264385692, а точность модели логистической регрессии на тестовой выборке: 0.7107309486780715. Исходя из этого, можно сделать вывод, что лучше всего на \"почти реальной\" задаче себя показывает модель случайного леса. Целесообразней в дальнейшем использовать именно ее**"
   ]
  },
  {
   "cell_type": "markdown",
   "id": "d0955c6d",
   "metadata": {},
   "source": [
    "## Вывод"
   ]
  },
  {
   "cell_type": "markdown",
   "id": "5c179808",
   "metadata": {},
   "source": [
    "Перед нами была поставлена задача: построить модель для задачи классификации, которая выберет подходящий тариф. И требовалось, чтобы эта модель обладала максимально большим значением accuracy. \n",
    "\n",
    "В ходе работы мы изучили предлагаемый файл. Разделили исходные данные на обучающую, валидационную и тестовую выборки. При этом мы получили обучающую выборку размером 1928 элементов, тестовую выборку размером 643 элемента и валидационную выборку размером 643 элемента. Также выделили обучающий набор данных, валидационный набор данных и тестовый набор данных.\n",
    "\n",
    "Исследовали качество разных моделей, меняя гиперпараметры.\n",
    "При исследовании моделей решающего дерева, случайного леса и логистичесакой регрессии было выявлено, что лучший результат по метрике Accuracy показывает модель решающего дерева. Немногим отстает и модель случайного леса. Хуже всего точность у логистической регрессии.\n",
    "- Accuracy дерева решений = 0.7993779160186625 при глубине дерева 7.\n",
    "- Accuracy случайного леса = 0.7978227060653188 количестве деревьев 24 и гиперпараметре criterion='entropy'(гиперпараметры со значениями max_features=1 и bootstrap=False только ухудшают результат).\n",
    "- Accuracy логистической регрессии = 0.6889580093312597.\n",
    "\n",
    "Проверили качество модели на тестовой выборке и выяснили, что точность модели дерева решений на тестовой выборке: 0.7822706065318819, точность модели случайного леса на тестовой выборке: 0.7853810264385692, а точность модели логистической регрессии на тестовой выборке: 0.7107309486780715. Исходя из этого, можно сделать вывод, что лучше всего на \"почти реальной\" задаче себя показывает модель случайного леса.\n",
    "\n",
    "**Рекомендации: для решения задачи выбора подходящего тарифа обращайтесь к модели случайного леса. Ее метрика Accuracy выше всех, и, что важно, превышает 0.75.**\n"
   ]
  }
 ],
 "metadata": {
  "kernelspec": {
   "display_name": "Python 3 (ipykernel)",
   "language": "python",
   "name": "python3"
  },
  "language_info": {
   "codemirror_mode": {
    "name": "ipython",
    "version": 3
   },
   "file_extension": ".py",
   "mimetype": "text/x-python",
   "name": "python",
   "nbconvert_exporter": "python",
   "pygments_lexer": "ipython3",
   "version": "3.10.9"
  }
 },
 "nbformat": 4,
 "nbformat_minor": 5
}
